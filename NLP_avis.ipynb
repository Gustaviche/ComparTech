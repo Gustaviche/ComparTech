{
 "cells": [
  {
   "cell_type": "code",
   "execution_count": null,
   "metadata": {},
   "outputs": [],
   "source": [
    "import pandas as pd\n",
    "import nltk\n",
    "from nltk.corpus import stopwords\n",
    "from nltk.probability import FreqDist\n",
    "from nltk.tokenize import word_tokenize, sent_tokenize"
   ]
  },
  {
   "cell_type": "code",
   "execution_count": 3,
   "metadata": {},
   "outputs": [],
   "source": [
    "df = pd.read_csv('Avis_clean.csv', index_col=0)"
   ]
  },
  {
   "cell_type": "code",
   "execution_count": 4,
   "metadata": {},
   "outputs": [
    {
     "data": {
      "text/html": [
       "<div>\n",
       "<style scoped>\n",
       "    .dataframe tbody tr th:only-of-type {\n",
       "        vertical-align: middle;\n",
       "    }\n",
       "\n",
       "    .dataframe tbody tr th {\n",
       "        vertical-align: top;\n",
       "    }\n",
       "\n",
       "    .dataframe thead th {\n",
       "        text-align: right;\n",
       "    }\n",
       "</style>\n",
       "<table border=\"1\" class=\"dataframe\">\n",
       "  <thead>\n",
       "    <tr style=\"text-align: right;\">\n",
       "      <th></th>\n",
       "      <th>ASIN</th>\n",
       "      <th>Note</th>\n",
       "      <th>Utilisateur</th>\n",
       "      <th>Avis</th>\n",
       "      <th>Pays</th>\n",
       "      <th>Date</th>\n",
       "      <th>Titres</th>\n",
       "    </tr>\n",
       "  </thead>\n",
       "  <tbody>\n",
       "    <tr>\n",
       "      <th>0</th>\n",
       "      <td>B0CS3WDXRV</td>\n",
       "      <td>5.0</td>\n",
       "      <td>Mesut OZBAY</td>\n",
       "      <td>Je suis vraiment satisfait de mon achat de léc...</td>\n",
       "      <td>France</td>\n",
       "      <td>5 décembre 2024</td>\n",
       "      <td>5,0 sur 5 étoiles Super écran incurvé avec une...</td>\n",
       "    </tr>\n",
       "    <tr>\n",
       "      <th>1</th>\n",
       "      <td>B0CS3WDXRV</td>\n",
       "      <td>5.0</td>\n",
       "      <td>Christopher</td>\n",
       "      <td>Jai acheté cet écran hier pour jouer et films ...</td>\n",
       "      <td>France</td>\n",
       "      <td>10 octobre 2024</td>\n",
       "      <td>5,0 sur 5 étoiles Impeccable</td>\n",
       "    </tr>\n",
       "    <tr>\n",
       "      <th>2</th>\n",
       "      <td>B0CS3WDXRV</td>\n",
       "      <td>5.0</td>\n",
       "      <td>Kalex</td>\n",
       "      <td>Cet écran MSI G2412F est tout simplement incro...</td>\n",
       "      <td>France</td>\n",
       "      <td>24 décembre 2024</td>\n",
       "      <td>5,0 sur 5 étoiles Un écran gaming qui dépasse ...</td>\n",
       "    </tr>\n",
       "    <tr>\n",
       "      <th>3</th>\n",
       "      <td>B0CS3WDXRV</td>\n",
       "      <td>4.0</td>\n",
       "      <td>Al... Al...</td>\n",
       "      <td>Alors....À la base, je viens dun écran Samsung...</td>\n",
       "      <td>France</td>\n",
       "      <td>3 janvier 2024</td>\n",
       "      <td>4,0 sur 5 étoiles M'ouais.....</td>\n",
       "    </tr>\n",
       "    <tr>\n",
       "      <th>4</th>\n",
       "      <td>B0CS3WDXRV</td>\n",
       "      <td>5.0</td>\n",
       "      <td>rene saldana</td>\n",
       "      <td>Parfait état, conforme au post, recommandé.</td>\n",
       "      <td>Mexique</td>\n",
       "      <td>29 novembre 2024</td>\n",
       "      <td>Excellent article!</td>\n",
       "    </tr>\n",
       "    <tr>\n",
       "      <th>...</th>\n",
       "      <td>...</td>\n",
       "      <td>...</td>\n",
       "      <td>...</td>\n",
       "      <td>...</td>\n",
       "      <td>...</td>\n",
       "      <td>...</td>\n",
       "      <td>...</td>\n",
       "    </tr>\n",
       "    <tr>\n",
       "      <th>12039</th>\n",
       "      <td>B0D3C6V4KR</td>\n",
       "      <td>3.0</td>\n",
       "      <td>Dirk Grätz</td>\n",
       "      <td>La télévision est bien mais pas de version all...</td>\n",
       "      <td>Allemagne</td>\n",
       "      <td>31 décembre 2024</td>\n",
       "      <td>Les marchandises sont ok</td>\n",
       "    </tr>\n",
       "    <tr>\n",
       "      <th>12040</th>\n",
       "      <td>B0D3C6V4KR</td>\n",
       "      <td>5.0</td>\n",
       "      <td>Steve Francis</td>\n",
       "      <td>Bonne qualité pour un prix avantageux</td>\n",
       "      <td>Espagne</td>\n",
       "      <td>12 octobre 2024</td>\n",
       "      <td>Bonne qualité</td>\n",
       "    </tr>\n",
       "    <tr>\n",
       "      <th>12041</th>\n",
       "      <td>B0D3C6V4KR</td>\n",
       "      <td>5.0</td>\n",
       "      <td>Raffaele</td>\n",
       "      <td>Très bien. Produit, expédition, colis etc..</td>\n",
       "      <td>Italie</td>\n",
       "      <td>23 septembre 2024</td>\n",
       "      <td>Parfait.</td>\n",
       "    </tr>\n",
       "    <tr>\n",
       "      <th>12042</th>\n",
       "      <td>B0D3C6V4KR</td>\n",
       "      <td>1.0</td>\n",
       "      <td>FMS- Roma</td>\n",
       "      <td>Le produit livré n'est pas localisé pour l'Ita...</td>\n",
       "      <td>Italie</td>\n",
       "      <td>5 octobre 2024</td>\n",
       "      <td>Le produit ne correspond pas à la description</td>\n",
       "    </tr>\n",
       "    <tr>\n",
       "      <th>12043</th>\n",
       "      <td>B0D3C6V4KR</td>\n",
       "      <td>4.0</td>\n",
       "      <td>Pi.</td>\n",
       "      <td>Cet appareil ne peut pas être configuré en all...</td>\n",
       "      <td>Allemagne</td>\n",
       "      <td>11 septembre 2024</td>\n",
       "      <td>Grand appareil</td>\n",
       "    </tr>\n",
       "  </tbody>\n",
       "</table>\n",
       "<p>11979 rows × 7 columns</p>\n",
       "</div>"
      ],
      "text/plain": [
       "             ASIN  Note    Utilisateur  \\\n",
       "0      B0CS3WDXRV   5.0    Mesut OZBAY   \n",
       "1      B0CS3WDXRV   5.0    Christopher   \n",
       "2      B0CS3WDXRV   5.0          Kalex   \n",
       "3      B0CS3WDXRV   4.0    Al... Al...   \n",
       "4      B0CS3WDXRV   5.0   rene saldana   \n",
       "...           ...   ...            ...   \n",
       "12039  B0D3C6V4KR   3.0     Dirk Grätz   \n",
       "12040  B0D3C6V4KR   5.0  Steve Francis   \n",
       "12041  B0D3C6V4KR   5.0       Raffaele   \n",
       "12042  B0D3C6V4KR   1.0      FMS- Roma   \n",
       "12043  B0D3C6V4KR   4.0            Pi.   \n",
       "\n",
       "                                                    Avis       Pays  \\\n",
       "0      Je suis vraiment satisfait de mon achat de léc...     France   \n",
       "1      Jai acheté cet écran hier pour jouer et films ...     France   \n",
       "2      Cet écran MSI G2412F est tout simplement incro...     France   \n",
       "3      Alors....À la base, je viens dun écran Samsung...     France   \n",
       "4            Parfait état, conforme au post, recommandé.    Mexique   \n",
       "...                                                  ...        ...   \n",
       "12039  La télévision est bien mais pas de version all...  Allemagne   \n",
       "12040              Bonne qualité pour un prix avantageux    Espagne   \n",
       "12041        Très bien. Produit, expédition, colis etc..     Italie   \n",
       "12042  Le produit livré n'est pas localisé pour l'Ita...     Italie   \n",
       "12043  Cet appareil ne peut pas être configuré en all...  Allemagne   \n",
       "\n",
       "                    Date                                             Titres  \n",
       "0        5 décembre 2024  5,0 sur 5 étoiles Super écran incurvé avec une...  \n",
       "1        10 octobre 2024                       5,0 sur 5 étoiles Impeccable  \n",
       "2       24 décembre 2024  5,0 sur 5 étoiles Un écran gaming qui dépasse ...  \n",
       "3         3 janvier 2024                     4,0 sur 5 étoiles M'ouais.....  \n",
       "4       29 novembre 2024                                 Excellent article!  \n",
       "...                  ...                                                ...  \n",
       "12039   31 décembre 2024                           Les marchandises sont ok  \n",
       "12040    12 octobre 2024                                      Bonne qualité  \n",
       "12041  23 septembre 2024                                           Parfait.  \n",
       "12042     5 octobre 2024      Le produit ne correspond pas à la description  \n",
       "12043  11 septembre 2024                                     Grand appareil  \n",
       "\n",
       "[11979 rows x 7 columns]"
      ]
     },
     "execution_count": 4,
     "metadata": {},
     "output_type": "execute_result"
    }
   ],
   "source": [
    "# Renommer la colonne 'Étoiles' en 'Note'\n",
    "df.rename(columns={'Date complète': 'Date'}, inplace=True)\n",
    "df.rename(columns={'Étoiles': 'Note'}, inplace=True)\n",
    "\n",
    "\n",
    "# Afficher le DataFrame pour vérifier le changement\n",
    "df"
   ]
  },
  {
   "cell_type": "code",
   "execution_count": 5,
   "metadata": {},
   "outputs": [
    {
     "data": {
      "text/plain": [
       "<Axes: >"
      ]
     },
     "execution_count": 5,
     "metadata": {},
     "output_type": "execute_result"
    },
    {
     "data": {
      "image/png": "[encoded data removed]",
      "text/plain": [
       "<Figure size 640x480 with 1 Axes>"
      ]
     },
     "metadata": {},
     "output_type": "display_data"
    }
   ],
   "source": [
    "df.Note.hist()"
   ]
  },
  {
   "cell_type": "code",
   "execution_count": 8,
   "metadata": {},
   "outputs": [
    {
     "name": "stderr",
     "output_type": "stream",
     "text": [
      "Device set to use cpu\n"
     ]
    },
    {
     "name": "stdout",
     "output_type": "stream",
     "text": [
      "Je vais résumer tous les avis pour chaque produit (ASIN).\n"
     ]
    },
    {
     "name": "stderr",
     "output_type": "stream",
     "text": [
      "Résumé des avis: 44produit [03:58,  3.94s/produit]Your max_length is set to 150, but your input_length is only 129. Since this is a summarization task, where outputs shorter than the input are typically wanted, you might consider decreasing max_length manually, e.g. summarizer('...', max_length=64)\n",
      "Résumé des avis: 53produit [04:51,  5.50s/produit]\n"
     ]
    },
    {
     "ename": "KeyboardInterrupt",
     "evalue": "",
     "output_type": "error",
     "traceback": [
      "\u001b[0;31m---------------------------------------------------------------------------\u001b[0m",
      "\u001b[0;31mKeyboardInterrupt\u001b[0m                         Traceback (most recent call last)",
      "Cell \u001b[0;32mIn[8], line 48\u001b[0m\n\u001b[1;32m     45\u001b[0m     \u001b[38;5;28mprint\u001b[39m(df_resumes)\n\u001b[1;32m     47\u001b[0m \u001b[38;5;66;03m# Lancer la fonction pour résumer tous les avis\u001b[39;00m\n\u001b[0;32m---> 48\u001b[0m \u001b[43msummarize_all_reviews\u001b[49m\u001b[43m(\u001b[49m\u001b[43mdf\u001b[49m\u001b[43m)\u001b[49m\n",
      "Cell \u001b[0;32mIn[8], line 39\u001b[0m, in \u001b[0;36msummarize_all_reviews\u001b[0;34m(df)\u001b[0m\n\u001b[1;32m     35\u001b[0m \u001b[38;5;28;01mwith\u001b[39;00m ThreadPoolExecutor(max_workers\u001b[38;5;241m=\u001b[39m\u001b[38;5;241m4\u001b[39m) \u001b[38;5;28;01mas\u001b[39;00m executor:\n\u001b[1;32m     37\u001b[0m     results \u001b[38;5;241m=\u001b[39m executor\u001b[38;5;241m.\u001b[39mmap(summarize_for_asin, df\u001b[38;5;241m.\u001b[39mgroupby(\u001b[38;5;124m\"\u001b[39m\u001b[38;5;124mASIN\u001b[39m\u001b[38;5;124m\"\u001b[39m))\n\u001b[0;32m---> 39\u001b[0m \u001b[43m    \u001b[49m\u001b[38;5;28;43;01mfor\u001b[39;49;00m\u001b[43m \u001b[49m\u001b[43masin\u001b[49m\u001b[43m,\u001b[49m\u001b[43m \u001b[49m\u001b[43msummary\u001b[49m\u001b[43m \u001b[49m\u001b[38;5;129;43;01min\u001b[39;49;00m\u001b[43m \u001b[49m\u001b[43mtqdm\u001b[49m\u001b[43m(\u001b[49m\u001b[43mresults\u001b[49m\u001b[43m,\u001b[49m\u001b[43m \u001b[49m\u001b[43mdesc\u001b[49m\u001b[38;5;241;43m=\u001b[39;49m\u001b[38;5;124;43m\"\u001b[39;49m\u001b[38;5;124;43mRésumé des avis\u001b[39;49m\u001b[38;5;124;43m\"\u001b[39;49m\u001b[43m,\u001b[49m\u001b[43m \u001b[49m\u001b[43munit\u001b[49m\u001b[38;5;241;43m=\u001b[39;49m\u001b[38;5;124;43m\"\u001b[39;49m\u001b[38;5;124;43mproduit\u001b[39;49m\u001b[38;5;124;43m\"\u001b[39;49m\u001b[43m)\u001b[49m\u001b[43m:\u001b[49m\n\u001b[1;32m     40\u001b[0m \u001b[43m        \u001b[49m\u001b[43mresumes\u001b[49m\u001b[43m[\u001b[49m\u001b[43masin\u001b[49m\u001b[43m]\u001b[49m\u001b[43m \u001b[49m\u001b[38;5;241;43m=\u001b[39;49m\u001b[43m \u001b[49m\u001b[43msummary\u001b[49m\n\u001b[1;32m     42\u001b[0m \u001b[38;5;66;03m# Affichage des résumés\u001b[39;00m\n",
      "File \u001b[0;32m/Library/Frameworks/Python.framework/Versions/3.12/lib/python3.12/site-packages/tqdm/std.py:1181\u001b[0m, in \u001b[0;36mtqdm.__iter__\u001b[0;34m(self)\u001b[0m\n\u001b[1;32m   1178\u001b[0m time \u001b[38;5;241m=\u001b[39m \u001b[38;5;28mself\u001b[39m\u001b[38;5;241m.\u001b[39m_time\n\u001b[1;32m   1180\u001b[0m \u001b[38;5;28;01mtry\u001b[39;00m:\n\u001b[0;32m-> 1181\u001b[0m \u001b[43m    \u001b[49m\u001b[38;5;28;43;01mfor\u001b[39;49;00m\u001b[43m \u001b[49m\u001b[43mobj\u001b[49m\u001b[43m \u001b[49m\u001b[38;5;129;43;01min\u001b[39;49;00m\u001b[43m \u001b[49m\u001b[43miterable\u001b[49m\u001b[43m:\u001b[49m\n\u001b[1;32m   1182\u001b[0m \u001b[43m        \u001b[49m\u001b[38;5;28;43;01myield\u001b[39;49;00m\u001b[43m \u001b[49m\u001b[43mobj\u001b[49m\n\u001b[1;32m   1183\u001b[0m \u001b[43m        \u001b[49m\u001b[38;5;66;43;03m# Update and possibly print the progressbar.\u001b[39;49;00m\n\u001b[1;32m   1184\u001b[0m \u001b[43m        \u001b[49m\u001b[38;5;66;43;03m# Note: does not call self.update(1) for speed optimisation.\u001b[39;49;00m\n",
      "File \u001b[0;32m/Library/Frameworks/Python.framework/Versions/3.12/lib/python3.12/concurrent/futures/_base.py:619\u001b[0m, in \u001b[0;36mExecutor.map.<locals>.result_iterator\u001b[0;34m()\u001b[0m\n\u001b[1;32m    616\u001b[0m \u001b[38;5;28;01mwhile\u001b[39;00m fs:\n\u001b[1;32m    617\u001b[0m     \u001b[38;5;66;03m# Careful not to keep a reference to the popped future\u001b[39;00m\n\u001b[1;32m    618\u001b[0m     \u001b[38;5;28;01mif\u001b[39;00m timeout \u001b[38;5;129;01mis\u001b[39;00m \u001b[38;5;28;01mNone\u001b[39;00m:\n\u001b[0;32m--> 619\u001b[0m         \u001b[38;5;28;01myield\u001b[39;00m \u001b[43m_result_or_cancel\u001b[49m\u001b[43m(\u001b[49m\u001b[43mfs\u001b[49m\u001b[38;5;241;43m.\u001b[39;49m\u001b[43mpop\u001b[49m\u001b[43m(\u001b[49m\u001b[43m)\u001b[49m\u001b[43m)\u001b[49m\n\u001b[1;32m    620\u001b[0m     \u001b[38;5;28;01melse\u001b[39;00m:\n\u001b[1;32m    621\u001b[0m         \u001b[38;5;28;01myield\u001b[39;00m _result_or_cancel(fs\u001b[38;5;241m.\u001b[39mpop(), end_time \u001b[38;5;241m-\u001b[39m time\u001b[38;5;241m.\u001b[39mmonotonic())\n",
      "File \u001b[0;32m/Library/Frameworks/Python.framework/Versions/3.12/lib/python3.12/concurrent/futures/_base.py:317\u001b[0m, in \u001b[0;36m_result_or_cancel\u001b[0;34m(***failed resolving arguments***)\u001b[0m\n\u001b[1;32m    315\u001b[0m \u001b[38;5;28;01mtry\u001b[39;00m:\n\u001b[1;32m    316\u001b[0m     \u001b[38;5;28;01mtry\u001b[39;00m:\n\u001b[0;32m--> 317\u001b[0m         \u001b[38;5;28;01mreturn\u001b[39;00m \u001b[43mfut\u001b[49m\u001b[38;5;241;43m.\u001b[39;49m\u001b[43mresult\u001b[49m\u001b[43m(\u001b[49m\u001b[43mtimeout\u001b[49m\u001b[43m)\u001b[49m\n\u001b[1;32m    318\u001b[0m     \u001b[38;5;28;01mfinally\u001b[39;00m:\n\u001b[1;32m    319\u001b[0m         fut\u001b[38;5;241m.\u001b[39mcancel()\n",
      "File \u001b[0;32m/Library/Frameworks/Python.framework/Versions/3.12/lib/python3.12/concurrent/futures/_base.py:451\u001b[0m, in \u001b[0;36mFuture.result\u001b[0;34m(self, timeout)\u001b[0m\n\u001b[1;32m    448\u001b[0m \u001b[38;5;28;01melif\u001b[39;00m \u001b[38;5;28mself\u001b[39m\u001b[38;5;241m.\u001b[39m_state \u001b[38;5;241m==\u001b[39m FINISHED:\n\u001b[1;32m    449\u001b[0m     \u001b[38;5;28;01mreturn\u001b[39;00m \u001b[38;5;28mself\u001b[39m\u001b[38;5;241m.\u001b[39m__get_result()\n\u001b[0;32m--> 451\u001b[0m \u001b[38;5;28;43mself\u001b[39;49m\u001b[38;5;241;43m.\u001b[39;49m\u001b[43m_condition\u001b[49m\u001b[38;5;241;43m.\u001b[39;49m\u001b[43mwait\u001b[49m\u001b[43m(\u001b[49m\u001b[43mtimeout\u001b[49m\u001b[43m)\u001b[49m\n\u001b[1;32m    453\u001b[0m \u001b[38;5;28;01mif\u001b[39;00m \u001b[38;5;28mself\u001b[39m\u001b[38;5;241m.\u001b[39m_state \u001b[38;5;129;01min\u001b[39;00m [CANCELLED, CANCELLED_AND_NOTIFIED]:\n\u001b[1;32m    454\u001b[0m     \u001b[38;5;28;01mraise\u001b[39;00m CancelledError()\n",
      "File \u001b[0;32m/Library/Frameworks/Python.framework/Versions/3.12/lib/python3.12/threading.py:355\u001b[0m, in \u001b[0;36mCondition.wait\u001b[0;34m(self, timeout)\u001b[0m\n\u001b[1;32m    353\u001b[0m \u001b[38;5;28;01mtry\u001b[39;00m:    \u001b[38;5;66;03m# restore state no matter what (e.g., KeyboardInterrupt)\u001b[39;00m\n\u001b[1;32m    354\u001b[0m     \u001b[38;5;28;01mif\u001b[39;00m timeout \u001b[38;5;129;01mis\u001b[39;00m \u001b[38;5;28;01mNone\u001b[39;00m:\n\u001b[0;32m--> 355\u001b[0m         \u001b[43mwaiter\u001b[49m\u001b[38;5;241;43m.\u001b[39;49m\u001b[43macquire\u001b[49m\u001b[43m(\u001b[49m\u001b[43m)\u001b[49m\n\u001b[1;32m    356\u001b[0m         gotit \u001b[38;5;241m=\u001b[39m \u001b[38;5;28;01mTrue\u001b[39;00m\n\u001b[1;32m    357\u001b[0m     \u001b[38;5;28;01melse\u001b[39;00m:\n",
      "\u001b[0;31mKeyboardInterrupt\u001b[0m: "
     ]
    }
   ],
   "source": [
    "import pandas as pd\n",
    "from transformers import pipeline\n",
    "from tqdm import tqdm\n",
    "import warnings\n",
    "from concurrent.futures import ThreadPoolExecutor\n",
    "import os\n",
    "os.environ[\"TOKENIZERS_PARALLELISM\"] = \"false\"\n",
    "\n",
    "# Étape 2: Filtrer les avertissements\n",
    "warnings.filterwarnings(\"ignore\", category=UserWarning, module='transformers')\n",
    "\n",
    "# Étape 3: Charger le modèle BART de Hugging Face\n",
    "summarizer = pipeline(\"summarization\", model=\"facebook/bart-large-cnn\",device=-1)\n",
    "\n",
    "# Étape 4: Fonction pour générer des résumés\n",
    "def generate_summary(text):\n",
    "    max_input_length = 1024\n",
    "    if len(text) > max_input_length:\n",
    "        text = text[:max_input_length]  # Tronquer le texte si trop long\n",
    "    summary = summarizer(text, max_length=150, min_length=0, do_sample=False)\n",
    "    return summary[0]['summary_text'] if summary else \"Résumé indisponible\"\n",
    "\n",
    "# Étape 5: Résumer tous les avis par ASIN de manière parallèle\n",
    "def summarize_for_asin(asin_group):\n",
    "    asin, group = asin_group\n",
    "    texte = \" \".join(group[\"Avis\"].tolist())  # Rassembler tous les avis d'un produit\n",
    "    summary = generate_summary(texte)  # Générer un résumé pour cet ASIN\n",
    "    return asin, summary\n",
    "\n",
    "def summarize_all_reviews(df):\n",
    "    print(\"Je vais résumer tous les avis pour chaque produit (ASIN).\")\n",
    "    \n",
    "    # Utilisation de ThreadPoolExecutor pour paralléliser le processus\n",
    "    resumes = {}\n",
    "    with ThreadPoolExecutor(max_workers=4) as executor:\n",
    "\n",
    "        results = executor.map(summarize_for_asin, df.groupby(\"ASIN\"))\n",
    "        \n",
    "        for asin, summary in tqdm(results, desc=\"Résumé des avis\", unit=\"produit\"):\n",
    "            resumes[asin] = summary\n",
    "    \n",
    "    # Affichage des résumés\n",
    "    df_resumes = pd.DataFrame(list(resumes.items()), columns=[\"ASIN\", \"Résumé\"])\n",
    "    print(\"\\nRésumés des avis :\")\n",
    "    print(df_resumes)\n",
    "\n",
    "# Lancer la fonction pour résumer tous les avis\n",
    "summarize_all_reviews(df)\n"
   ]
  },
  {
   "cell_type": "code",
   "execution_count": null,
   "metadata": {},
   "outputs": [
    {
     "ename": "NameError",
     "evalue": "name 'df_resumes' is not defined",
     "output_type": "error",
     "traceback": [
      "\u001b[0;31m---------------------------------------------------------------------------\u001b[0m",
      "\u001b[0;31mNameError\u001b[0m                                 Traceback (most recent call last)",
      "Cell \u001b[0;32mIn[7], line 1\u001b[0m\n\u001b[0;32m----> 1\u001b[0m \u001b[43mdf_resumes\u001b[49m\n",
      "\u001b[0;31mNameError\u001b[0m: name 'df_resumes' is not defined"
     ]
    }
   ],
   "source": []
  }
 ],
 "metadata": {
  "kernelspec": {
   "display_name": "Python 3",
   "language": "python",
   "name": "python3"
  },
  "language_info": {
   "codemirror_mode": {
    "name": "ipython",
    "version": 3
   },
   "file_extension": ".py",
   "mimetype": "text/x-python",
   "name": "python",
   "nbconvert_exporter": "python",
   "pygments_lexer": "ipython3",
   "version": "3.12.1"
  }
 },
 "nbformat": 4,
 "nbformat_minor": 2
}
